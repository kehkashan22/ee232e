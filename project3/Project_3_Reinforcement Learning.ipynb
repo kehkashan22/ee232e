{
 "cells": [
  {
   "cell_type": "code",
   "execution_count": 2,
   "metadata": {},
   "outputs": [],
   "source": [
    "import numpy as np\n",
    "import matplotlib.pyplot as plt"
   ]
  },
  {
   "cell_type": "markdown",
   "metadata": {},
   "source": [
    "# 2 Reinforcement learning (RL)"
   ]
  },
  {
   "cell_type": "markdown",
   "metadata": {},
   "source": [
    "### Question 1: \n",
    "For visualization purpose, generate heat maps of\n",
    "Reward function 1 and Reward function 2. For the heat maps, make sure you\n",
    "display the coloring scale. You will have 2 plots for this question"
   ]
  },
  {
   "cell_type": "code",
   "execution_count": 3,
   "metadata": {},
   "outputs": [
    {
     "data": {
      "image/png": "[encoded data removed]",
      "text/plain": [
       "<Figure size 432x288 with 2 Axes>"
      ]
     },
     "metadata": {
      "needs_background": "light"
     },
     "output_type": "display_data"
    }
   ],
   "source": [
    "r1 = [[0 for _ in range(10)] for _ in range(10)]\n",
    "r1[9][9] = 1\n",
    "plt.pcolor(r1, cmap = \"viridis\")\n",
    "plt.gca().invert_yaxis()\n",
    "plt.colorbar()\n",
    "plt.title(\"Heat Map for Reward Function 1\")\n",
    "plt.show()"
   ]
  },
  {
   "cell_type": "code",
   "execution_count": 7,
   "metadata": {},
   "outputs": [
    {
     "data": {
      "image/png": "[encoded data removed]",
      "text/plain": [
       "<Figure size 432x288 with 2 Axes>"
      ]
     },
     "metadata": {
      "needs_background": "light"
     },
     "output_type": "display_data"
    }
   ],
   "source": [
    "r2 = [[0 for _ in range(10)] for _ in range(10)]\n",
    "r2[1][4:7] = [-100 for _ in range(3)]\n",
    "r2[3][6:9] = [-100 for _ in range(3)]\n",
    "r2[7][6:9] = [-100 for _ in range(3)]\n",
    "r2[2][4] = -100\n",
    "r2[2][6] = -100\n",
    "r2[3][4] = -100\n",
    "r2[4][4] = -100\n",
    "r2[4][8] = -100\n",
    "r2[5][4] = -100\n",
    "r2[5][8] = -100\n",
    "r2[6][4] = -100\n",
    "r2[6][8] = -100\n",
    "r2[8][6] = -100\n",
    "r2[9][9] = 10\n",
    "plt.pcolor(r2, cmap = \"viridis\")\n",
    "plt.gca().invert_yaxis()\n",
    "plt.colorbar()\n",
    "plt.title(\"Heat Map for Reward Function 2\")\n",
    "plt.show()"
   ]
  },
  {
   "cell_type": "markdown",
   "metadata": {},
   "source": [
    "# 3 Optimal policy learning using RL algorithms"
   ]
  },
  {
   "cell_type": "markdown",
   "metadata": {},
   "source": [
    "### Question 2: \n",
    "Create the environment of the agent using the in-\n",
    "formation provided in section 2. To be speci\f",
    "c, create the MDP by setting up\n",
    "the state-space, action set, transition probabilities, discount factor, and reward\n",
    "function. For creating the environment, use the following set of parameters:\n",
    "- Number of states = 100 (state space is a 10 by 10 square grid as displayed in figure 1)\n",
    "- Number of actions = 4 (set of possible actions is displayed in \f",
    "gure 2)\n",
    "- w = 0.1\n",
    "- Discount factor = 0.8\n",
    "- Reward function 1\n",
    "\n",
    "After you have created the environment, then write an optimal state-value function that takes as input the environment of the agent and outputs the optimal value of each state in the grid. For the optimal state-value function, you have\n",
    "to implement the Initialization (lines 2-4) and Estimation (lines 5-13) steps of the Value Iteration algorithm. For the estimation step, use ep = 0.01. For visualization purpose, you should generate a figure similar to that of figure 1 but with the number of state replaced by the optimal value of that state. In this\n",
    "question, you should have 1 plot."
   ]
  },
  {
   "cell_type": "code",
   "execution_count": 19,
   "metadata": {},
   "outputs": [],
   "source": [
    "values = [0 for _ in range(100)]\n",
    "threshold = 0.01\n",
    "actions = [-10, -1, 10, 1]\n",
    "w = 0.1\n",
    "gamma = 0.8\n",
    "reward = []\n",
    "r1 = np.array(r1).transpose()\n",
    "for lines in r1:\n",
    "    reward += list(lines)"
   ]
  },
  {
   "cell_type": "code",
   "execution_count": 20,
   "metadata": {},
   "outputs": [],
   "source": [
    "def compute_prob(c_state, n_state, move, p):\n",
    "    left = c_state + actions[0]\n",
    "    up = c_state + actions[1]\n",
    "    right = c_state + actions[2]\n",
    "    down = c_state + actions[3]\n",
    "    if n_state == left:\n",
    "        if move == 0:\n",
    "            return 1-p+p/4\n",
    "        else:\n",
    "            return p/4\n",
    "    elif n_state == up:\n",
    "        if move == 1:\n",
    "            return 1-p+p/4\n",
    "        else:\n",
    "            return p/4\n",
    "    elif n_state == right:\n",
    "        if move == 2:\n",
    "            return 1-p+p/4\n",
    "        else:\n",
    "            return p/4\n",
    "    elif n_state == down:\n",
    "        if move == 3:\n",
    "            return 1-p+p/4\n",
    "        else:\n",
    "            return p/4\n",
    "    elif n_state == c_state:\n",
    "        record = 0\n",
    "        if left < 0:\n",
    "            if move == 0:\n",
    "                record += (1-p+p/4)\n",
    "            else:\n",
    "                record += p/4\n",
    "        if right > 99:\n",
    "            if move == 2:\n",
    "                record += (1-p+p/4)\n",
    "            else:\n",
    "                record += p/4\n",
    "        if up % 10 == 9:\n",
    "            if move == 1:\n",
    "                record += (1-p+p/4)\n",
    "            else:\n",
    "                record += p/4\n",
    "        if down % 10 == 0:\n",
    "            if move == 3:\n",
    "                record += (1-p+p/4)\n",
    "            else:\n",
    "                record += p/4\n",
    "        return record\n",
    "    else:\n",
    "        return 0"
   ]
  },
  {
   "cell_type": "code",
   "execution_count": 21,
   "metadata": {},
   "outputs": [],
   "source": [
    "def next_p(c_state, move, prob, gamma, reward, values):\n",
    "    left = c_state + actions[0]\n",
    "    right = c_state + actions[2]\n",
    "    up = c_state + actions[1]\n",
    "    down = c_state + actions[3]\n",
    "    neighbours = [left, right, up, down, c_state]\n",
    "    result = 0\n",
    "    for neigh in neighbours:\n",
    "        if neigh < 0 or neigh > 99 or (c_state % 10 == 0 and neigh % 10 == 9) or (c_state % 10 == 9 and neigh % 10 == 0):\n",
    "            continue\n",
    "        result += compute_prob(c_state, neigh, move, prob) * (reward[neigh] + gamma * values[neigh])\n",
    "    return result"
   ]
  },
  {
   "cell_type": "code",
   "execution_count": 22,
   "metadata": {},
   "outputs": [],
   "source": [
    "def optimal_state(values, w, gamma, reward, threshold):\n",
    "    for state in range(100):\n",
    "        values[state] = 0\n",
    "    delta = float('inf')\n",
    "    while delta > threshold:\n",
    "        delta = 0\n",
    "        temp = values[:]\n",
    "        for state in range(100):\n",
    "            v = values[state]\n",
    "            values[state] = max(next_p(state, 0, w, gamma, reward, temp),\n",
    "                                next_p(state, 1, w, gamma, reward, temp),\n",
    "                                next_p(state, 2, w, gamma, reward, temp),\n",
    "                                next_p(state, 3, w, gamma, reward, temp))\n",
    "            delta = max(delta, abs(v - values[state]))\n",
    "    return values"
   ]
  },
  {
   "cell_type": "code",
   "execution_count": 24,
   "metadata": {},
   "outputs": [
    {
     "data": {
      "text/plain": [
       "[]"
      ]
     },
     "execution_count": 24,
     "metadata": {},
     "output_type": "execute_result"
    },
    {
     "data": {
      "image/png": "[encoded data removed]",
      "text/plain": [
       "<Figure size 432x288 with 1 Axes>"
      ]
     },
     "metadata": {},
     "output_type": "display_data"
    }
   ],
   "source": [
    "values = optimal_state(values, w, gamma, reward, threshold)\n",
    "g1 = np.round(values, decimals=3).reshape(10, 10).transpose()\n",
    "tb = plt.table(cellText=g1, loc=(0,0), cellLoc='center')\n",
    "tc = tb.properties()['child_artists']\n",
    "for cell in tc:\n",
    "    cell.set_height(0.1)\n",
    "    cell.set_width(0.1)\n",
    "ax = plt.gca()\n",
    "ax.set_xticks([])\n",
    "ax.set_yticks([])\n"
   ]
  },
  {
   "cell_type": "markdown",
   "metadata": {},
   "source": [
    "### Question 3: \n",
    "Generate a heat map of the optimal state values across the 2-D grid. For generating the heat map, you can use the same function provided in the hint earlier (see the hint after question 1)."
   ]
  },
  {
   "cell_type": "code",
   "execution_count": 10,
   "metadata": {},
   "outputs": [
    {
     "data": {
      "text/plain": [
       "Text(0.5,1,'Heat Map of Optimal State Values for Reward Function 1')"
      ]
     },
     "execution_count": 10,
     "metadata": {},
     "output_type": "execute_result"
    },
    {
     "data": {
      "image/png": "[encoded data removed]",
      "text/plain": [
       "<Figure size 432x288 with 2 Axes>"
      ]
     },
     "metadata": {
      "needs_background": "light"
     },
     "output_type": "display_data"
    }
   ],
   "source": [
    "plt.figure()\n",
    "plt.pcolor(g1, cmap = \"viridis\")\n",
    "plt.gca().invert_yaxis()\n",
    "plt.colorbar()\n",
    "plt.title(\"Heat Map of Optimal State Values for Reward Function 1\")"
   ]
  },
  {
   "cell_type": "markdown",
   "metadata": {},
   "source": [
    "### Question 5: \n",
    "Implement the computation step of the value iteration algorithm (lines 14-17) to compute the optimal policy of the agent navigating the 2-D state-space. For visualization purpose, you should generate a figure similar to that of figure 1 but with the number of state replaced by the optimal action at that state. The optimal actions should be displayed using arrows.\n",
    "\n",
    "Does the optimal policy of the agent match your intuition? Please provide a\n",
    "brief explanation. Is it possible for the agent to compute the optimal action to\n",
    "take at each state by observing the optimal values of it's neighboring states? In\n",
    "this question, you should have 1 plot."
   ]
  },
  {
   "cell_type": "code",
   "execution_count": 25,
   "metadata": {},
   "outputs": [
    {
     "data": {
      "image/png": "[encoded data removed]",
      "text/plain": [
       "<Figure size 432x288 with 1 Axes>"
      ]
     },
     "metadata": {},
     "output_type": "display_data"
    }
   ],
   "source": [
    "x = [0 for _ in range(100)]\n",
    "arrows = ['\\u2190', '\\u2191', '\\u2192', '\\u2193']\n",
    "for state in range(100):\n",
    "    x[state] = arrows[np.argmax([compute(state, 0, w, gamma, reward, values),\n",
    "                                   compute(state, 1, w, gamma, reward, values),\n",
    "                                   compute(state, 2, w, gamma, reward, values),\n",
    "                                   compute(state, 3, w, gamma, reward, values)])]\n",
    "y = np.array(x).reshape(10, 10).transpose()\n",
    "plt.figure()\n",
    "tb = plt.table(cellText=y, loc=(0,0), cellLoc='center')\n",
    "tc = tb.properties()['child_artists']\n",
    "for cell in tc:\n",
    "    cell.set_height(0.1)\n",
    "    cell.set_width(0.1)\n",
    "ax = plt.gca()\n",
    "ax.set_xticks([])\n",
    "ax.set_yticks([])\n",
    "plt.show()"
   ]
  },
  {
   "cell_type": "markdown",
   "metadata": {},
   "source": [
    "### Question 6: \n",
    "Modify the environment of the agent by replacing Reward function 1 with Reward function 2. Use the optimal state-value function implemented in question 2 to compute the optimal value of each state in the\n",
    "grid. For visualization purpose, you should generate a figure similar to that\n",
    "of figure 1 but with the number of state replaced by the optimal value of that\n",
    "state. In this question, you should have 1 plot."
   ]
  },
  {
   "cell_type": "code",
   "execution_count": 28,
   "metadata": {},
   "outputs": [
    {
     "data": {
      "text/plain": [
       "[]"
      ]
     },
     "execution_count": 28,
     "metadata": {},
     "output_type": "execute_result"
    },
    {
     "data": {
      "image/png": "[encoded data removed]",
      "text/plain": [
       "<Figure size 432x288 with 1 Axes>"
      ]
     },
     "metadata": {},
     "output_type": "display_data"
    }
   ],
   "source": [
    "reward = []\n",
    "r2 = np.array(r2).transpose()\n",
    "for lines in r2:\n",
    "    reward += list(lines)\n",
    "\n",
    "values = optimal_state(values, w, gamma, reward, threshold)\n",
    "g1 = np.round(values, decimals=3).reshape(10, 10).transpose()\n",
    "tb = plt.table(cellText=g1, loc=(0,0), cellLoc='center')\n",
    "tc = tb.properties()['child_artists']\n",
    "for cell in tc:\n",
    "    cell.set_height(0.1)\n",
    "    cell.set_width(0.1)\n",
    "ax = plt.gca()\n",
    "ax.set_xticks([])\n",
    "ax.set_yticks([])"
   ]
  },
  {
   "cell_type": "markdown",
   "metadata": {},
   "source": [
    "### Question 7: \n",
    "Generate a heat map of the optimal state values (found\n",
    "in question 6) across the 2-D grid. For generating the heat map, you can use\n",
    "the same function provided in the hint earlier."
   ]
  },
  {
   "cell_type": "code",
   "execution_count": 29,
   "metadata": {},
   "outputs": [
    {
     "data": {
      "text/plain": [
       "Text(0.5,1,'Heat Map of Optimal State Values for Reward Function 2')"
      ]
     },
     "execution_count": 29,
     "metadata": {},
     "output_type": "execute_result"
    },
    {
     "data": {
      "image/png": "[encoded data removed]",
      "text/plain": [
       "<Figure size 432x288 with 2 Axes>"
      ]
     },
     "metadata": {
      "needs_background": "light"
     },
     "output_type": "display_data"
    }
   ],
   "source": [
    "plt.figure()\n",
    "plt.pcolor(g1, cmap = \"viridis\")\n",
    "plt.gca().invert_yaxis()\n",
    "plt.colorbar()\n",
    "plt.title(\"Heat Map of Optimal State Values for Reward Function 2\")"
   ]
  },
  {
   "cell_type": "markdown",
   "metadata": {},
   "source": [
    "## Question 9"
   ]
  },
  {
   "cell_type": "code",
   "execution_count": 14,
   "metadata": {},
   "outputs": [
    {
     "data": {
      "image/png": "[encoded data removed]",
      "text/plain": [
       "<Figure size 432x288 with 1 Axes>"
      ]
     },
     "metadata": {},
     "output_type": "display_data"
    }
   ],
   "source": [
    "pis = [0 for _ in range(100)]\n",
    "arrows = ['\\u2190', '\\u2191', '\\u2192', '\\u2193']\n",
    "for state in range(100):\n",
    "    pis[state] = arrows[np.argmax([compute(state, 0, w, gamma, reward, values),\n",
    "                                   compute(state, 1, w, gamma, reward, values),\n",
    "                                   compute(state, 2, w, gamma, reward, values),\n",
    "                                   compute(state, 3, w, gamma, reward, values)])]\n",
    "pi1 = np.array(pis).reshape(10, 10).transpose()\n",
    "plt.figure()\n",
    "tb = plt.table(cellText=pi1, loc=(0,0), cellLoc='center')\n",
    "tc = tb.properties()['child_artists']\n",
    "for cell in tc:\n",
    "    cell.set_height(0.1)\n",
    "    cell.set_width(0.1)\n",
    "ax = plt.gca()\n",
    "ax.set_xticks([])\n",
    "ax.set_yticks([])\n",
    "plt.show()"
   ]
  },
  {
   "cell_type": "code",
   "execution_count": null,
   "metadata": {},
   "outputs": [],
   "source": []
  }
 ],
 "metadata": {
  "kernelspec": {
   "display_name": "Python 3",
   "language": "python",
   "name": "python3"
  },
  "language_info": {
   "codemirror_mode": {
    "name": "ipython",
    "version": 3
   },
   "file_extension": ".py",
   "mimetype": "text/x-python",
   "name": "python",
   "nbconvert_exporter": "python",
   "pygments_lexer": "ipython3",
   "version": "3.7.0"
  }
 },
 "nbformat": 4,
 "nbformat_minor": 2
}
